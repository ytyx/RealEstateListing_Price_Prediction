{
 "cells": [
  {
   "cell_type": "code",
   "execution_count": 733,
   "metadata": {},
   "outputs": [],
   "source": [
    "import pandas as pd\n",
    "import numpy as np\n",
    "from sklearn.model_selection import train_test_split\n",
    "from sklearn.preprocessing import LabelEncoder\n",
    "from xgboost import XGBRegressor\n",
    "from sklearn.metrics import r2_score\n",
    "import re\n",
    "import math\n",
    "from dotenv import load_dotenv\n",
    "import os\n",
    "import requests\n",
    "\n",
    "from nltk.corpus import stopwords\n",
    "from nltk.tokenize import word_tokenize\n",
    "from nltk.stem import SnowballStemmer\n",
    "from sklearn.feature_extraction.text import TfidfVectorizer\n",
    "\n",
    "from pysentimiento.preprocessing import preprocess_tweet\n",
    "\n",
    "import matplotlib.pyplot as plt\n",
    "import seaborn as sns\n",
    "from sklearn.preprocessing import OneHotEncoder\n",
    "from catboost import CatBoostRegressor\n",
    "from sklearn.ensemble import ExtraTreesRegressor"
   ]
  },
  {
   "cell_type": "code",
   "execution_count": 734,
   "metadata": {},
   "outputs": [],
   "source": [
    "import pickle\n",
    "pickle_file_path = '~/data/train.pickle'\n",
    "with open(pickle_file_path, 'rb') as f:\n",
    "    train = pickle.load(f)\n",
    "    \n",
    "pickle_file_path = '~/data/test_kaggle.pickle'\n",
    "with open(pickle_file_path, 'rb') as f:\n",
    "    test = pickle.load(f)"
   ]
  },
  {
   "cell_type": "code",
   "execution_count": 735,
   "metadata": {},
   "outputs": [
    {
     "data": {
      "text/html": [
       "<div>\n",
       "<style scoped>\n",
       "    .dataframe tbody tr th:only-of-type {\n",
       "        vertical-align: middle;\n",
       "    }\n",
       "\n",
       "    .dataframe tbody tr th {\n",
       "        vertical-align: top;\n",
       "    }\n",
       "\n",
       "    .dataframe thead th {\n",
       "        text-align: right;\n",
       "    }\n",
       "</style>\n",
       "<table border=\"1\" class=\"dataframe\">\n",
       "  <thead>\n",
       "    <tr style=\"text-align: right;\">\n",
       "      <th></th>\n",
       "      <th>price</th>\n",
       "      <th>title</th>\n",
       "      <th>loc_string</th>\n",
       "      <th>loc</th>\n",
       "      <th>features</th>\n",
       "      <th>type</th>\n",
       "      <th>subtype</th>\n",
       "      <th>selltype</th>\n",
       "      <th>desc</th>\n",
       "    </tr>\n",
       "  </thead>\n",
       "  <tbody>\n",
       "    <tr>\n",
       "      <th>0</th>\n",
       "      <td>320.000 €</td>\n",
       "      <td>Piso Tallers. Piso con 2 habitaciones con asce...</td>\n",
       "      <td>Barcelona - Sant Antoni</td>\n",
       "      <td>None</td>\n",
       "      <td>[85 m2, 2 hab., 1 baño, 3.647 €/m2]</td>\n",
       "      <td>FLAT</td>\n",
       "      <td>FLAT</td>\n",
       "      <td>SECOND_HAND</td>\n",
       "      <td>Piso en última planta a reformar en calle Tall...</td>\n",
       "    </tr>\n",
       "    <tr>\n",
       "      <th>1</th>\n",
       "      <td>335.000 €</td>\n",
       "      <td>Piso C/ de valència. Piso reformado en venta d...</td>\n",
       "      <td>Barcelona - Dreta de l´Eixample</td>\n",
       "      <td>None</td>\n",
       "      <td>[65 m2, 2 hab., 1 baño, 5.000 €/m2]</td>\n",
       "      <td>FLAT</td>\n",
       "      <td>FLAT</td>\n",
       "      <td>SECOND_HAND</td>\n",
       "      <td>Ubicado en la zona del Camp de l’Arpa, cerca d...</td>\n",
       "    </tr>\n",
       "    <tr>\n",
       "      <th>2</th>\n",
       "      <td>330.000 €</td>\n",
       "      <td>Piso en Dreta de l´Eixample. Acogedor piso al ...</td>\n",
       "      <td>Barcelona - Dreta de l´Eixample</td>\n",
       "      <td>None</td>\n",
       "      <td>[77 m2, 2 hab., 1 baño, 4.286 €/m2]</td>\n",
       "      <td>FLAT</td>\n",
       "      <td>FLAT</td>\n",
       "      <td>SECOND_HAND</td>\n",
       "      <td>En pleno centro de Barcelona, justo al lado de...</td>\n",
       "    </tr>\n",
       "    <tr>\n",
       "      <th>3</th>\n",
       "      <td>435.000 €</td>\n",
       "      <td>Piso Barcelona - corts catalanes. Soleado, cén...</td>\n",
       "      <td>Barcelona - Sant Antoni</td>\n",
       "      <td>None</td>\n",
       "      <td>[96 m2, 3 hab., 2 baños, 4.531 €/m2]</td>\n",
       "      <td>FLAT</td>\n",
       "      <td>FLAT</td>\n",
       "      <td>SECOND_HAND</td>\n",
       "      <td>Vivienda espaciosa en Sant Antoni, cerca de Pl...</td>\n",
       "    </tr>\n",
       "    <tr>\n",
       "      <th>4</th>\n",
       "      <td>410.000 €</td>\n",
       "      <td>Piso en Carrer de sardenya 271. Alto, reformad...</td>\n",
       "      <td>Barcelona - Sagrada Família</td>\n",
       "      <td>Carrer de Sardenya 271</td>\n",
       "      <td>[84 m2, 2 hab., 1 baño, 4.881 €/m2]</td>\n",
       "      <td>FLAT</td>\n",
       "      <td>FLAT</td>\n",
       "      <td>SECOND_HAND</td>\n",
       "      <td>En el corazón de Barcelona, en una hermosa fin...</td>\n",
       "    </tr>\n",
       "  </tbody>\n",
       "</table>\n",
       "</div>"
      ],
      "text/plain": [
       "       price                                              title  \\\n",
       "0  320.000 €  Piso Tallers. Piso con 2 habitaciones con asce...   \n",
       "1  335.000 €  Piso C/ de valència. Piso reformado en venta d...   \n",
       "2  330.000 €  Piso en Dreta de l´Eixample. Acogedor piso al ...   \n",
       "3  435.000 €  Piso Barcelona - corts catalanes. Soleado, cén...   \n",
       "4  410.000 €  Piso en Carrer de sardenya 271. Alto, reformad...   \n",
       "\n",
       "                        loc_string                     loc  \\\n",
       "0          Barcelona - Sant Antoni                    None   \n",
       "1  Barcelona - Dreta de l´Eixample                    None   \n",
       "2  Barcelona - Dreta de l´Eixample                    None   \n",
       "3          Barcelona - Sant Antoni                    None   \n",
       "4      Barcelona - Sagrada Família  Carrer de Sardenya 271   \n",
       "\n",
       "                               features  type subtype     selltype  \\\n",
       "0   [85 m2, 2 hab., 1 baño, 3.647 €/m2]  FLAT    FLAT  SECOND_HAND   \n",
       "1   [65 m2, 2 hab., 1 baño, 5.000 €/m2]  FLAT    FLAT  SECOND_HAND   \n",
       "2   [77 m2, 2 hab., 1 baño, 4.286 €/m2]  FLAT    FLAT  SECOND_HAND   \n",
       "3  [96 m2, 3 hab., 2 baños, 4.531 €/m2]  FLAT    FLAT  SECOND_HAND   \n",
       "4   [84 m2, 2 hab., 1 baño, 4.881 €/m2]  FLAT    FLAT  SECOND_HAND   \n",
       "\n",
       "                                                desc  \n",
       "0  Piso en última planta a reformar en calle Tall...  \n",
       "1  Ubicado en la zona del Camp de l’Arpa, cerca d...  \n",
       "2  En pleno centro de Barcelona, justo al lado de...  \n",
       "3  Vivienda espaciosa en Sant Antoni, cerca de Pl...  \n",
       "4  En el corazón de Barcelona, en una hermosa fin...  "
      ]
     },
     "execution_count": 735,
     "metadata": {},
     "output_type": "execute_result"
    }
   ],
   "source": [
    "df = pd.DataFrame(train)\n",
    "df_test = pd.DataFrame(test)\n",
    "df.head()"
   ]
  },
  {
   "cell_type": "code",
   "execution_count": 736,
   "metadata": {},
   "outputs": [
    {
     "data": {
      "text/plain": [
       "(132, 10)"
      ]
     },
     "execution_count": 736,
     "metadata": {},
     "output_type": "execute_result"
    }
   ],
   "source": [
    "df_test.shape"
   ]
  },
  {
   "cell_type": "markdown",
   "metadata": {},
   "source": [
    "## 1) Numerical features"
   ]
  },
  {
   "cell_type": "code",
   "execution_count": 737,
   "metadata": {},
   "outputs": [],
   "source": [
    "def preprocess_text(text):\n",
    "    # Convert text to lowercase\n",
    "    text = text.lower()\n",
    "    \n",
    "    # Remove special characters, numbers, and punctuation\n",
    "    text = re.sub(r'[^a-zA-Z\\sáéíóúüñ]', '', text)\n",
    "    \n",
    "    # Tokenize text\n",
    "    tokens = word_tokenize(text, language='spanish')\n",
    "    \n",
    "    # Remove stopwords\n",
    "    stop_words = set(stopwords.words('spanish'))\n",
    "    tokens = [token for token in tokens if token not in stop_words]\n",
    "    \n",
    "    # Lemmatize tokens\n",
    "    stemmer = SnowballStemmer('spanish')\n",
    "    tokens = [stemmer.stem(token) for token in tokens]\n",
    "    \n",
    "    # Join tokens back into text\n",
    "    preprocessed_text = ' '.join(tokens)\n",
    "    \n",
    "    return preprocessed_text"
   ]
  },
  {
   "cell_type": "code",
   "execution_count": 738,
   "metadata": {},
   "outputs": [
    {
     "data": {
      "text/html": [
       "<div>\n",
       "<style scoped>\n",
       "    .dataframe tbody tr th:only-of-type {\n",
       "        vertical-align: middle;\n",
       "    }\n",
       "\n",
       "    .dataframe tbody tr th {\n",
       "        vertical-align: top;\n",
       "    }\n",
       "\n",
       "    .dataframe thead th {\n",
       "        text-align: right;\n",
       "    }\n",
       "</style>\n",
       "<table border=\"1\" class=\"dataframe\">\n",
       "  <thead>\n",
       "    <tr style=\"text-align: right;\">\n",
       "      <th></th>\n",
       "      <th>price</th>\n",
       "      <th>title</th>\n",
       "      <th>loc_string</th>\n",
       "      <th>loc</th>\n",
       "      <th>features</th>\n",
       "      <th>type</th>\n",
       "      <th>subtype</th>\n",
       "      <th>selltype</th>\n",
       "      <th>desc</th>\n",
       "    </tr>\n",
       "  </thead>\n",
       "  <tbody>\n",
       "    <tr>\n",
       "      <th>0</th>\n",
       "      <td>320.000 €</td>\n",
       "      <td>Piso Tallers. Piso con 2 habitaciones con asce...</td>\n",
       "      <td>Barcelona - Sant Antoni</td>\n",
       "      <td>None</td>\n",
       "      <td>[85 m2, 2 hab., 1 baño, 3.647 €/m2]</td>\n",
       "      <td>FLAT</td>\n",
       "      <td>FLAT</td>\n",
       "      <td>SECOND_HAND</td>\n",
       "      <td>Piso en última planta a reformar en calle Tall...</td>\n",
       "    </tr>\n",
       "    <tr>\n",
       "      <th>1</th>\n",
       "      <td>335.000 €</td>\n",
       "      <td>Piso C/ de valència. Piso reformado en venta d...</td>\n",
       "      <td>Barcelona - Dreta de l´Eixample</td>\n",
       "      <td>None</td>\n",
       "      <td>[65 m2, 2 hab., 1 baño, 5.000 €/m2]</td>\n",
       "      <td>FLAT</td>\n",
       "      <td>FLAT</td>\n",
       "      <td>SECOND_HAND</td>\n",
       "      <td>Ubicado en la zona del Camp de l’Arpa, cerca d...</td>\n",
       "    </tr>\n",
       "    <tr>\n",
       "      <th>2</th>\n",
       "      <td>330.000 €</td>\n",
       "      <td>Piso en Dreta de l´Eixample. Acogedor piso al ...</td>\n",
       "      <td>Barcelona - Dreta de l´Eixample</td>\n",
       "      <td>None</td>\n",
       "      <td>[77 m2, 2 hab., 1 baño, 4.286 €/m2]</td>\n",
       "      <td>FLAT</td>\n",
       "      <td>FLAT</td>\n",
       "      <td>SECOND_HAND</td>\n",
       "      <td>En pleno centro de Barcelona, justo al lado de...</td>\n",
       "    </tr>\n",
       "    <tr>\n",
       "      <th>3</th>\n",
       "      <td>435.000 €</td>\n",
       "      <td>Piso Barcelona - corts catalanes. Soleado, cén...</td>\n",
       "      <td>Barcelona - Sant Antoni</td>\n",
       "      <td>None</td>\n",
       "      <td>[96 m2, 3 hab., 2 baños, 4.531 €/m2]</td>\n",
       "      <td>FLAT</td>\n",
       "      <td>FLAT</td>\n",
       "      <td>SECOND_HAND</td>\n",
       "      <td>Vivienda espaciosa en Sant Antoni, cerca de Pl...</td>\n",
       "    </tr>\n",
       "    <tr>\n",
       "      <th>4</th>\n",
       "      <td>410.000 €</td>\n",
       "      <td>Piso en Carrer de sardenya 271. Alto, reformad...</td>\n",
       "      <td>Barcelona - Sagrada Família</td>\n",
       "      <td>Carrer de Sardenya 271</td>\n",
       "      <td>[84 m2, 2 hab., 1 baño, 4.881 €/m2]</td>\n",
       "      <td>FLAT</td>\n",
       "      <td>FLAT</td>\n",
       "      <td>SECOND_HAND</td>\n",
       "      <td>En el corazón de Barcelona, en una hermosa fin...</td>\n",
       "    </tr>\n",
       "  </tbody>\n",
       "</table>\n",
       "</div>"
      ],
      "text/plain": [
       "       price                                              title  \\\n",
       "0  320.000 €  Piso Tallers. Piso con 2 habitaciones con asce...   \n",
       "1  335.000 €  Piso C/ de valència. Piso reformado en venta d...   \n",
       "2  330.000 €  Piso en Dreta de l´Eixample. Acogedor piso al ...   \n",
       "3  435.000 €  Piso Barcelona - corts catalanes. Soleado, cén...   \n",
       "4  410.000 €  Piso en Carrer de sardenya 271. Alto, reformad...   \n",
       "\n",
       "                        loc_string                     loc  \\\n",
       "0          Barcelona - Sant Antoni                    None   \n",
       "1  Barcelona - Dreta de l´Eixample                    None   \n",
       "2  Barcelona - Dreta de l´Eixample                    None   \n",
       "3          Barcelona - Sant Antoni                    None   \n",
       "4      Barcelona - Sagrada Família  Carrer de Sardenya 271   \n",
       "\n",
       "                               features  type subtype     selltype  \\\n",
       "0   [85 m2, 2 hab., 1 baño, 3.647 €/m2]  FLAT    FLAT  SECOND_HAND   \n",
       "1   [65 m2, 2 hab., 1 baño, 5.000 €/m2]  FLAT    FLAT  SECOND_HAND   \n",
       "2   [77 m2, 2 hab., 1 baño, 4.286 €/m2]  FLAT    FLAT  SECOND_HAND   \n",
       "3  [96 m2, 3 hab., 2 baños, 4.531 €/m2]  FLAT    FLAT  SECOND_HAND   \n",
       "4   [84 m2, 2 hab., 1 baño, 4.881 €/m2]  FLAT    FLAT  SECOND_HAND   \n",
       "\n",
       "                                                desc  \n",
       "0  Piso en última planta a reformar en calle Tall...  \n",
       "1  Ubicado en la zona del Camp de l’Arpa, cerca d...  \n",
       "2  En pleno centro de Barcelona, justo al lado de...  \n",
       "3  Vivienda espaciosa en Sant Antoni, cerca de Pl...  \n",
       "4  En el corazón de Barcelona, en una hermosa fin...  "
      ]
     },
     "execution_count": 738,
     "metadata": {},
     "output_type": "execute_result"
    }
   ],
   "source": [
    "df.head()"
   ]
  },
  {
   "cell_type": "code",
   "execution_count": 739,
   "metadata": {},
   "outputs": [],
   "source": [
    "def data_pipeline(df, df_lat_long, tfidf_vectorizer_desc=None, tfidf_vectorizer_title=None, encoder=None, if_train=True):\n",
    "    \n",
    "    # Drop unnecessary columns\n",
    "    df = df.drop(['subtype', 'selltype'], axis=1)\n",
    "    \n",
    "    # Extract features from 'features' column\n",
    "    df['sq_meters'] = df['features'].str[0].str.extract('(\\d+)').astype(float)\n",
    "    df['num_rooms'] = df['features'].str[1].str.extract('(\\d+)').astype(float)\n",
    "    df['num_bathrooms'] = df['features'].str[2].str.extract('(\\d+)').astype(float)\n",
    "    \n",
    "    # Add latitude and longitude from df_lat_long\n",
    "    df['latitude'] = df_lat_long['Latitude']\n",
    "    df['longitude'] = df_lat_long['Longitude']\n",
    "    \n",
    "    # One-hot encoding for 'type' column\n",
    "    \n",
    "    if encoder is None:\n",
    "        type_data = df['type'].values.reshape(-1, 1)\n",
    "        encoder = OneHotEncoder()\n",
    "        one_hot_encoded = encoder.fit_transform(type_data)\n",
    "        one_hot_array = one_hot_encoded.toarray()\n",
    "    else:\n",
    "        one_hot_encoded = encoder.transform(df['type'].values.reshape(-1, 1))\n",
    "        one_hot_array = one_hot_encoded.toarray()\n",
    "        \n",
    "    for i, category in enumerate(encoder.categories_[0]):\n",
    "        df[category] = one_hot_array[:, i]\n",
    "    df.drop('type', axis=1, inplace=True)\n",
    "    \n",
    "    # Text preprocessing for description and title\n",
    "    df['preprocessed_desc'] = df['desc'].apply(preprocess_text)\n",
    "    df['preprocessed_title'] = df['title'].apply(preprocess_text)\n",
    "    \n",
    "    ## Using the text data\n",
    "    # TF-IDF vectorization for description\n",
    "    if tfidf_vectorizer_desc is None:\n",
    "        tfidf_vectorizer_desc = TfidfVectorizer()\n",
    "        desc_tfidf = tfidf_vectorizer_desc.fit_transform(df['preprocessed_desc'])\n",
    "    else:\n",
    "        desc_tfidf = tfidf_vectorizer_desc.transform(df['preprocessed_desc'])\n",
    "    \n",
    "    # TF-IDF vectorization for title\n",
    "    if tfidf_vectorizer_title is None:\n",
    "        tfidf_vectorizer_title = TfidfVectorizer()\n",
    "        title_tfidf = tfidf_vectorizer_title.fit_transform(df['preprocessed_title'])\n",
    "    else:\n",
    "        title_tfidf = tfidf_vectorizer_title.transform(df['preprocessed_title'])\n",
    "    \n",
    "    # If training, return the target variable 'y'\n",
    "    if if_train:\n",
    "        # Price processing\n",
    "        df['price'] = df['price'].str.replace(' €', '').str.replace('.', '').astype(float) / 1000\n",
    "        y = df['price']\n",
    "        df = df.drop('price', axis=1)\n",
    "        \n",
    "        # Drop unnecessary columns\n",
    "        df = df.drop(['title', 'loc_string', 'loc', 'features', 'desc', 'preprocessed_desc', 'preprocessed_title'], axis=1)\n",
    "        \n",
    "        X_combined = np.concatenate((df, desc_tfidf.toarray(),title_tfidf.toarray()), axis=1)\n",
    "        return y, X_combined, tfidf_vectorizer_desc, tfidf_vectorizer_title, encoder\n",
    "    else:\n",
    "        df = df.drop(['title','loc_string','loc','features','desc','id','preprocessed_desc','preprocessed_title'], axis=1)\n",
    "        X_combined = np.concatenate((df, desc_tfidf.toarray(),title_tfidf.toarray()), axis=1)\n",
    "        return X_combined    "
   ]
  },
  {
   "cell_type": "code",
   "execution_count": 740,
   "metadata": {},
   "outputs": [
    {
     "name": "stderr",
     "output_type": "stream",
     "text": [
      "/var/folders/pf/yq0p17ss3ydb5hldysbbgx700000gn/T/ipykernel_99884/3480210713.py:52: FutureWarning: The default value of regex will change from True to False in a future version. In addition, single character regular expressions will *not* be treated as literal strings when regex=True.\n",
      "  df['price'] = df['price'].str.replace(' €', '').str.replace('.', '').astype(float) / 1000\n"
     ]
    }
   ],
   "source": [
    "df_lat_long_train = pd.read_csv('location_data/latitude_longitude.csv')\n",
    "\n",
    "df_new = df.copy()\n",
    "y, X,  tfidf_vectorizer_desc, tfidf_vectorizer_title, encoder = data_pipeline(df_new, df_lat_long_train)"
   ]
  },
  {
   "cell_type": "code",
   "execution_count": 741,
   "metadata": {},
   "outputs": [],
   "source": [
    "X_train, X_test, y_train, y_test = train_test_split(X, y, test_size=0.2, random_state=42)"
   ]
  },
  {
   "cell_type": "code",
   "execution_count": 742,
   "metadata": {},
   "outputs": [],
   "source": [
    "df_lat_long_test = pd.read_csv('location_data/longitude_latitude_test.csv')"
   ]
  },
  {
   "cell_type": "markdown",
   "metadata": {},
   "source": [
    "### Model XGBoost"
   ]
  },
  {
   "cell_type": "code",
   "execution_count": 743,
   "metadata": {},
   "outputs": [],
   "source": [
    "# Train the model\n",
    "model = XGBRegressor()\n",
    "model.fit(X_train, y_train)\n",
    "\n",
    "# Make predictions on the test set\n",
    "y_pred = model.predict(X_test)\n",
    "\n",
    "# Evaluate the model\n",
    "r2 = r2_score(y_test, y_pred)"
   ]
  },
  {
   "cell_type": "code",
   "execution_count": 744,
   "metadata": {},
   "outputs": [
    {
     "name": "stdout",
     "output_type": "stream",
     "text": [
      "0.5974830929042595\n"
     ]
    }
   ],
   "source": [
    "print(r2)"
   ]
  },
  {
   "cell_type": "markdown",
   "metadata": {},
   "source": [
    "### Model CatBoosting"
   ]
  },
  {
   "cell_type": "code",
   "execution_count": 745,
   "metadata": {},
   "outputs": [
    {
     "name": "stdout",
     "output_type": "stream",
     "text": [
      "Learning rate set to 0.073353\n",
      "0:\tlearn: 75.3254015\ttest: 73.2376099\tbest: 73.2376099 (0)\ttotal: 10.5ms\tremaining: 5.24s\n",
      "100:\tlearn: 37.4828535\ttest: 45.5022920\tbest: 45.5022920 (100)\ttotal: 789ms\tremaining: 3.12s\n",
      "200:\tlearn: 24.0243458\ttest: 43.2545889\tbest: 43.2260990 (198)\ttotal: 1.53s\tremaining: 2.28s\n",
      "300:\tlearn: 17.0130349\ttest: 42.6199708\tbest: 42.6167272 (298)\ttotal: 2.32s\tremaining: 1.53s\n",
      "400:\tlearn: 12.4001613\ttest: 42.4692382\tbest: 42.4614328 (353)\ttotal: 3.1s\tremaining: 767ms\n",
      "499:\tlearn: 9.4471853\ttest: 42.4888497\tbest: 42.3944173 (447)\ttotal: 3.92s\tremaining: 0us\n",
      "\n",
      "bestTest = 42.39441734\n",
      "bestIteration = 447\n",
      "\n",
      "Shrink model to first 448 iterations.\n",
      "R Square (CatBoost): 0.6786126738752609\n"
     ]
    }
   ],
   "source": [
    "catboost_model = CatBoostRegressor(iterations=500,  # Number of trees (boosting iterations)\n",
    "                                   learning_rate=None,  # Learning rate\n",
    "                                   depth=6,  # Depth of each tree\n",
    "                                   loss_function='RMSE',  # Loss function to optimize\n",
    "                                   verbose=100  # Print training progress\n",
    "                                   )\n",
    "\n",
    "# Fit the regressor to the training data\n",
    "catboost_model.fit(X_train, y_train, eval_set=(X_test, y_test))\n",
    "\n",
    "# Make predictions on the test set\n",
    "y_pred_catboost = catboost_model.predict(X_test)\n",
    "\n",
    "# Evaluate the model\n",
    "r2_catboost = r2_score(y_test, y_pred_catboost)\n",
    "print(f\"R Square (CatBoost): {r2_catboost}\")"
   ]
  },
  {
   "cell_type": "markdown",
   "metadata": {},
   "source": [
    "- Since we can see that Catboost gives a much better RMSE score compared to XGBoost, hence we perform a RandomSearchCV on catboost to find the best parameters"
   ]
  },
  {
   "cell_type": "markdown",
   "metadata": {},
   "source": [
    "### RandomSearchCV on Catboosting Algorithm"
   ]
  },
  {
   "cell_type": "code",
   "execution_count": 659,
   "metadata": {},
   "outputs": [],
   "source": [
    "from catboost import CatBoostRegressor\n",
    "from sklearn.model_selection import RandomizedSearchCV\n",
    "from sklearn.model_selection import KFold\n",
    "\n",
    "def perform_random_search(x, y, n_splits=10, random_state=8675309, n_iter=10):\n",
    "    # Define the parameter grid\n",
    "    param_dist = {\n",
    "        'iterations': [100, 500, 1000],\n",
    "        'learning_rate': [None, 0.01, 0.1],\n",
    "        'depth': [6, 9, 12],\n",
    "    }\n",
    "\n",
    "    catboost_model = CatBoostRegressor(loss_function='RMSE')\n",
    "\n",
    "    kf = KFold(n_splits=n_splits, random_state=random_state, shuffle=True)\n",
    "\n",
    "    random_search = RandomizedSearchCV(\n",
    "        catboost_model, \n",
    "        param_distributions=param_dist, \n",
    "        scoring='r2',  # Adjust scoring metric as needed\n",
    "        n_iter=n_iter, \n",
    "        cv=kf, \n",
    "        verbose=2, \n",
    "        n_jobs=-1, \n",
    "        random_state=random_state\n",
    "    )\n",
    "\n",
    "    x_train, x_eval, y_train, y_eval = train_test_split(x, y, test_size=0.2, random_state=random_state)\n",
    "\n",
    "    random_search.fit(x_train, y_train, eval_set=[(x_eval, y_eval)], early_stopping_rounds=50, verbose=50)\n",
    "\n",
    "    return random_search.best_score_, random_search.best_params_"
   ]
  },
  {
   "cell_type": "code",
   "execution_count": 660,
   "metadata": {},
   "outputs": [
    {
     "name": "stdout",
     "output_type": "stream",
     "text": [
      "Fitting 10 folds for each of 10 candidates, totalling 100 fits\n",
      "0:\tlearn: 75.1857167\ttest: 75.1584751\tbest: 75.1584751 (0)\ttotal: 9.99ms\tremaining: 4.99s\n",
      "50:\tlearn: 41.4792140\ttest: 51.6320095\tbest: 51.5974356 (49)\ttotal: 350ms\tremaining: 3.08s\n",
      "100:\tlearn: 29.1738385\ttest: 48.1942486\tbest: 48.1942486 (100)\ttotal: 692ms\tremaining: 2.73s\n",
      "150:\tlearn: 20.9754114\ttest: 48.0498841\tbest: 47.9943754 (137)\ttotal: 1.02s\tremaining: 2.35s\n",
      "200:\tlearn: 15.7088740\ttest: 47.7106172\tbest: 47.4346416 (177)\ttotal: 1.34s\tremaining: 2s\n",
      "Stopped by overfitting detector  (50 iterations wait)\n",
      "\n",
      "bestTest = 47.43464161\n",
      "bestIteration = 177\n",
      "\n",
      "Shrink model to first 178 iterations.\n",
      "Best Score: 0.5612736388473437\n",
      "Best Parameters: {'learning_rate': 0.1, 'iterations': 500, 'depth': 6}\n"
     ]
    }
   ],
   "source": [
    "best_score, best_params = perform_random_search(X_train, y_train)\n",
    "\n",
    "print(\"Best Score:\", best_score)\n",
    "print(\"Best Parameters:\", best_params)"
   ]
  },
  {
   "cell_type": "markdown",
   "metadata": {},
   "source": [
    "- We got the best parameters around 500 iterations, 0.1 learning rate and a depth of 6"
   ]
  },
  {
   "cell_type": "markdown",
   "metadata": {},
   "source": [
    "### Model Prediction"
   ]
  },
  {
   "cell_type": "code",
   "execution_count": 750,
   "metadata": {},
   "outputs": [],
   "source": [
    "df_test_new = df_test.copy()\n",
    "df_test_new = df_test_new.drop('description', axis=1)\n",
    "X_test = data_pipeline(df_test_new, df_lat_long_test, tfidf_vectorizer_desc, \\\n",
    "                       tfidf_vectorizer_title, encoder,if_train = False)"
   ]
  },
  {
   "cell_type": "code",
   "execution_count": 751,
   "metadata": {},
   "outputs": [
    {
     "name": "stdout",
     "output_type": "stream",
     "text": [
      "0:\tlearn: 73.6096865\ttotal: 40.2ms\tremaining: 20s\n",
      "100:\tlearn: 32.5818827\ttotal: 946ms\tremaining: 3.74s\n",
      "200:\tlearn: 19.9792565\ttotal: 1.78s\tremaining: 2.65s\n",
      "300:\tlearn: 13.5352449\ttotal: 2.7s\tremaining: 1.78s\n",
      "400:\tlearn: 9.8221635\ttotal: 3.51s\tremaining: 867ms\n",
      "499:\tlearn: 7.2065041\ttotal: 4.36s\tremaining: 0us\n"
     ]
    },
    {
     "data": {
      "text/plain": [
       "<catboost.core.CatBoostRegressor at 0x317b8e550>"
      ]
     },
     "execution_count": 751,
     "metadata": {},
     "output_type": "execute_result"
    }
   ],
   "source": [
    "catboost_model = CatBoostRegressor(iterations=500,  # Number of trees (boosting iterations)\n",
    "                                   learning_rate=0.1,  # Learning rate\n",
    "                                   depth=6,  # Depth of each tree\n",
    "                                   loss_function='RMSE',  # Loss function to optimize\n",
    "                                   verbose=100  # Print training progress\n",
    "                                   )\n",
    "\n",
    "catboost_model.fit(X, y)"
   ]
  },
  {
   "cell_type": "code",
   "execution_count": 752,
   "metadata": {},
   "outputs": [],
   "source": [
    "catboost_predictions = catboost_model.predict(X_test)"
   ]
  },
  {
   "cell_type": "code",
   "execution_count": 753,
   "metadata": {},
   "outputs": [
    {
     "data": {
      "text/plain": [
       "array([329.65635384, 332.31019861, 293.98065835, 329.09506788,\n",
       "       340.58455438, 350.92081896, 277.98607993, 267.78002829,\n",
       "       297.95271326, 284.91791528, 358.06505472, 382.01433612,\n",
       "       374.23760398, 404.41436548, 358.96069921, 317.41778879,\n",
       "       272.3985736 , 432.02299575, 391.40886416, 314.89469792,\n",
       "       323.8309567 , 336.29935667, 263.356325  , 431.1000853 ,\n",
       "       234.86339517, 226.58030501, 355.43865064, 351.8828732 ,\n",
       "       392.8630642 , 394.37101724, 278.16777367, 361.34849428,\n",
       "       392.15302784, 332.53304102, 415.51272929, 311.94076206,\n",
       "       362.25337546, 294.53013814, 408.66160054, 341.25274244,\n",
       "       413.91485546, 392.15302784, 254.34197667, 261.36545289,\n",
       "       384.8673695 , 404.22308653, 333.0392116 , 407.53141134,\n",
       "       363.11956077, 426.51385549, 287.70045918, 362.9803626 ,\n",
       "       301.47571213, 241.23517675, 391.31578381, 295.53761611,\n",
       "       435.04817402, 371.78165873, 352.17352522, 416.47643146,\n",
       "       304.73635634, 304.93951604, 353.28594825, 242.29708765,\n",
       "       375.90089999, 410.57192286, 355.95518221, 323.00420733,\n",
       "       375.42842618, 336.93333545, 394.52267472, 285.24533423,\n",
       "       414.76396551, 352.36339371, 311.40887704, 313.29319859,\n",
       "       345.43123672, 284.0789902 , 327.68993418, 352.59249769,\n",
       "       387.09204807, 339.96018898, 310.58062143, 393.31298655,\n",
       "       351.06632207, 363.73497907, 369.63416186, 439.15807884,\n",
       "       172.10878354, 399.27717124, 423.50777037, 209.75130925,\n",
       "       392.18901292, 309.10419626, 373.86811006, 306.3541713 ,\n",
       "       365.77881228, 363.85368869, 410.86490653, 247.07752141,\n",
       "       408.32533831, 281.33251722, 375.69176525, 372.32538189,\n",
       "       380.52121066, 288.09124798, 359.13744016, 375.5823343 ,\n",
       "       415.32144712, 386.92046909, 354.09046769, 253.75089763,\n",
       "       292.67284474, 398.71321552, 425.61866281, 347.42347954,\n",
       "       402.61966862, 405.36097362, 365.69683684, 432.69280172,\n",
       "       386.5124642 , 308.3224227 , 323.29226423, 368.4882909 ,\n",
       "       165.52546923, 402.03738207, 355.64880523, 391.27435261,\n",
       "       299.38635799, 323.01515923, 361.96601242, 393.18158549])"
      ]
     },
     "execution_count": 753,
     "metadata": {},
     "output_type": "execute_result"
    }
   ],
   "source": [
    "catboost_predictions"
   ]
  },
  {
   "cell_type": "code",
   "execution_count": 754,
   "metadata": {},
   "outputs": [],
   "source": [
    "df_test_id = pd.DataFrame(test)\n",
    "ids = df_test_id.id"
   ]
  },
  {
   "cell_type": "code",
   "execution_count": 755,
   "metadata": {},
   "outputs": [],
   "source": [
    "data = np.column_stack((ids, catboost_predictions))\n",
    "df_pred = pd.DataFrame(data, columns=['id','price'])\n",
    "df_pred['id'] = df_pred['id'].astype(int)\n",
    "df_pred.to_csv('/Users/ranjeetnagarkar/Desktop/AdvancedML/project/project-group5/solution.csv', index=False)"
   ]
  }
 ],
 "metadata": {
  "kernelspec": {
   "display_name": "Python 3 (ipykernel)",
   "language": "python",
   "name": "python3"
  },
  "language_info": {
   "codemirror_mode": {
    "name": "ipython",
    "version": 3
   },
   "file_extension": ".py",
   "mimetype": "text/x-python",
   "name": "python",
   "nbconvert_exporter": "python",
   "pygments_lexer": "ipython3",
   "version": "3.11.0"
  }
 },
 "nbformat": 4,
 "nbformat_minor": 2
}
